{
 "cells": [
  {
   "cell_type": "markdown",
   "id": "7b891190",
   "metadata": {},
   "source": [
    "# <center> Face Mask Detection </center>\n",
    "---"
   ]
  },
  {
   "cell_type": "markdown",
   "id": "fd6d4be8",
   "metadata": {},
   "source": [
    "<img src=https://raw.githubusercontent.com/Vrushti24/Face-Mask-Detection/logo/Logo/facemaskdetection.ai%20%40%2051.06%25%20(CMYK_GPU%20Preview)%20%2018-02-2021%2018_33_18%20(2).png width=200px height=200px>"
   ]
  },
  {
   "cell_type": "markdown",
   "id": "bd504981",
   "metadata": {},
   "source": [
    "Face Mask Detection system built with OpenCV, Keras/TensorFlow using Deep Learning and Computer Vision concepts in order to detect face masks in static images as well as in real-time video streams."
   ]
  },
  {
   "cell_type": "markdown",
   "id": "f8561c4f",
   "metadata": {},
   "source": [
    "<img src=https://raw.githubusercontent.com/chandrikadeb7/Face-Mask-Detection/master/Readme_images/Screen%20Shot%202020-05-14%20at%208.49.06%20PM.png width=300px height=200px>"
   ]
  },
  {
   "cell_type": "code",
   "execution_count": null,
   "id": "193c0065",
   "metadata": {},
   "outputs": [],
   "source": []
  }
 ],
 "metadata": {
  "kernelspec": {
   "display_name": "Python 3",
   "language": "python",
   "name": "python3"
  },
  "language_info": {
   "codemirror_mode": {
    "name": "ipython",
    "version": 3
   },
   "file_extension": ".py",
   "mimetype": "text/x-python",
   "name": "python",
   "nbconvert_exporter": "python",
   "pygments_lexer": "ipython3",
   "version": "3.9.13 (tags/v3.9.13:6de2ca5, May 17 2022, 16:36:42) [MSC v.1929 64 bit (AMD64)]"
  },
  "vscode": {
   "interpreter": {
    "hash": "c66c18894b5fd9f240bff8c002bc5787f7161995a7e4b114845aecb6e643821e"
   }
  }
 },
 "nbformat": 4,
 "nbformat_minor": 5
}
